{
 "cells": [
  {
   "cell_type": "markdown",
   "id": "8133cf5f-3b2f-4370-becb-44877c2f5f99",
   "metadata": {},
   "source": [
    "# House Price Prediction Model"
   ]
  },
  {
   "cell_type": "markdown",
   "id": "56c2ce8a-b7dc-43ab-af65-0fc1d0850ff5",
   "metadata": {},
   "source": [
    "### CRISP_DM Methodological Steps:\n",
    "<ul>\n",
    "<li><a href=\"#1.Business_Understanding\">Business Understanding</a></li>\n",
    "<li><a href=\"#2.Data_Understanding\">Data Understanding</a></li>\n",
    "<li><a href=\"#3.Data_Preparation\">Data Preparation</a></li>\n",
    "<li><a href=\"#4.Modeling\">Modeling</a></li>\n",
    "<li><a href=\"#5.Evaluation\">Evaluation</a></li>\n",
    "<li><a href=\"#6.Deployment\">Deployment</a></li>\n",
    "</ul>"
   ]
  },
  {
   "cell_type": "markdown",
   "id": "bd61f937-69e7-43cf-bc47-304a5536c0ed",
   "metadata": {},
   "source": [
    "# 1.Business_Understanding"
   ]
  },
  {
   "cell_type": "markdown",
   "id": "e9ddafb2-da8b-4d00-9b18-e5295c030af9",
   "metadata": {},
   "source": [
    "<a id='intro'></a>\n",
    "## Introduction\n",
    "<span style=\"font-family:Impact; color: blue;\">This is summary about the Hausing_Price Dataset and some information and key attribute......\n",
    "</span>\n",
    "### About dataset\n",
    "1. **Location**\n",
    "2. **Size (sqft)**\n",
    "3. **bathrooms**\n",
    "4. **Bedrooms**\n",
    "5. **Year Built**\n",
    "6. **Condition**\n",
    "7. **Price**\n",
    "**This house price forecasting project aims to apply machine learning and artificial intelligence techniques to determine or predict real estate prices based on a set of variables and available information. This project is of great importance in the real estate market because it can help investors and buyers make informed decisions regarding buying, selling or even estimating current property values..**"
   ]
  },
  {
   "cell_type": "markdown",
   "id": "4307e128-04f3-485d-ab0c-8d0c3cbab45f",
   "metadata": {},
   "source": [
    "# 2.Data_Understanding"
   ]
  },
  {
   "cell_type": "code",
   "execution_count": 12,
   "id": "9e56649a-6a9c-491d-b134-7901b92bb08a",
   "metadata": {},
   "outputs": [],
   "source": [
    "# Importing L"
   ]
  },
  {
   "cell_type": "code",
   "execution_count": 14,
   "id": "d4773cc1-b5d0-42ba-8b32-0895baacafc4",
   "metadata": {},
   "outputs": [],
   "source": [
    "import pandas as pd\n",
    "import numpy as np\n",
    "import matplotlib.pyplot as plt\n",
    "import seaborn as sns\n",
    "import joblib"
   ]
  },
  {
   "cell_type": "code",
   "execution_count": 15,
   "id": "0e1b1715-36b0-4572-bfe1-d8da1c478158",
   "metadata": {},
   "outputs": [],
   "source": [
    "df=pd.read_csv(r\"mission 2.csv\")"
   ]
  },
  {
   "cell_type": "code",
   "execution_count": 16,
   "id": "2dda73f4-c8ac-41d5-95cd-b64d6ba22697",
   "metadata": {},
   "outputs": [
    {
     "data": {
      "text/html": [
       "<div>\n",
       "<style scoped>\n",
       "    .dataframe tbody tr th:only-of-type {\n",
       "        vertical-align: middle;\n",
       "    }\n",
       "\n",
       "    .dataframe tbody tr th {\n",
       "        vertical-align: top;\n",
       "    }\n",
       "\n",
       "    .dataframe thead th {\n",
       "        text-align: right;\n",
       "    }\n",
       "</style>\n",
       "<table border=\"1\" class=\"dataframe\">\n",
       "  <thead>\n",
       "    <tr style=\"text-align: right;\">\n",
       "      <th></th>\n",
       "      <th>Location</th>\n",
       "      <th>Size (sqft)</th>\n",
       "      <th>Bedrooms</th>\n",
       "      <th>Bathrooms</th>\n",
       "      <th>Year Built</th>\n",
       "      <th>Condition</th>\n",
       "      <th>Price</th>\n",
       "    </tr>\n",
       "  </thead>\n",
       "  <tbody>\n",
       "    <tr>\n",
       "      <th>0</th>\n",
       "      <td>Suburban</td>\n",
       "      <td>1295</td>\n",
       "      <td>5</td>\n",
       "      <td>1</td>\n",
       "      <td>2007</td>\n",
       "      <td>5</td>\n",
       "      <td>61023</td>\n",
       "    </tr>\n",
       "    <tr>\n",
       "      <th>1</th>\n",
       "      <td>Urban</td>\n",
       "      <td>1163</td>\n",
       "      <td>1</td>\n",
       "      <td>3</td>\n",
       "      <td>1961</td>\n",
       "      <td>1</td>\n",
       "      <td>216619</td>\n",
       "    </tr>\n",
       "    <tr>\n",
       "      <th>2</th>\n",
       "      <td>Urban</td>\n",
       "      <td>2020</td>\n",
       "      <td>1</td>\n",
       "      <td>2</td>\n",
       "      <td>1983</td>\n",
       "      <td>5</td>\n",
       "      <td>168012</td>\n",
       "    </tr>\n",
       "    <tr>\n",
       "      <th>3</th>\n",
       "      <td>Suburban</td>\n",
       "      <td>1279</td>\n",
       "      <td>2</td>\n",
       "      <td>1</td>\n",
       "      <td>2004</td>\n",
       "      <td>1</td>\n",
       "      <td>206542</td>\n",
       "    </tr>\n",
       "    <tr>\n",
       "      <th>4</th>\n",
       "      <td>Urban</td>\n",
       "      <td>2268</td>\n",
       "      <td>1</td>\n",
       "      <td>1</td>\n",
       "      <td>1961</td>\n",
       "      <td>2</td>\n",
       "      <td>316979</td>\n",
       "    </tr>\n",
       "  </tbody>\n",
       "</table>\n",
       "</div>"
      ],
      "text/plain": [
       "   Location  Size (sqft)  Bedrooms  Bathrooms  Year Built  Condition   Price\n",
       "0  Suburban         1295         5          1        2007          5   61023\n",
       "1     Urban         1163         1          3        1961          1  216619\n",
       "2     Urban         2020         1          2        1983          5  168012\n",
       "3  Suburban         1279         2          1        2004          1  206542\n",
       "4     Urban         2268         1          1        1961          2  316979"
      ]
     },
     "execution_count": 16,
     "metadata": {},
     "output_type": "execute_result"
    }
   ],
   "source": [
    "df.head(5)"
   ]
  },
  {
   "cell_type": "code",
   "execution_count": 23,
   "id": "422014a3-5e6d-4a90-be4e-6607a396db7d",
   "metadata": {},
   "outputs": [
    {
     "data": {
      "text/plain": [
       "<Axes: >"
      ]
     },
     "execution_count": 23,
     "metadata": {},
     "output_type": "execute_result"
    },
    {
     "data": {
      "image/png": "[encoded data removed]",
      "text/plain": [
       "<Figure size 640x480 with 2 Axes>"
      ]
     },
     "metadata": {},
     "output_type": "display_data"
    }
   ],
   "source": [
    "df_corr=df.select_dtypes(include='number').corr()\n",
    "sns.heatmap(df_corr,annot=True,fmt=\".2f\",cmap='coolwarm',vmin=-1,vmax=1)"
   ]
  },
  {
   "cell_type": "code",
   "execution_count": 27,
   "id": "b444f06d-2d26-4efd-9df5-70659ff657e3",
   "metadata": {},
   "outputs": [
    {
     "data": {
      "text/html": [
       "<div>\n",
       "<style scoped>\n",
       "    .dataframe tbody tr th:only-of-type {\n",
       "        vertical-align: middle;\n",
       "    }\n",
       "\n",
       "    .dataframe tbody tr th {\n",
       "        vertical-align: top;\n",
       "    }\n",
       "\n",
       "    .dataframe thead th {\n",
       "        text-align: right;\n",
       "    }\n",
       "</style>\n",
       "<table border=\"1\" class=\"dataframe\">\n",
       "  <thead>\n",
       "    <tr style=\"text-align: right;\">\n",
       "      <th></th>\n",
       "      <th>count</th>\n",
       "      <th>mean</th>\n",
       "      <th>std</th>\n",
       "      <th>min</th>\n",
       "      <th>25%</th>\n",
       "      <th>50%</th>\n",
       "      <th>75%</th>\n",
       "      <th>max</th>\n",
       "    </tr>\n",
       "  </thead>\n",
       "  <tbody>\n",
       "    <tr>\n",
       "      <th>Size (sqft)</th>\n",
       "      <td>1000.0</td>\n",
       "      <td>2113.144</td>\n",
       "      <td>766.567480</td>\n",
       "      <td>595.0</td>\n",
       "      <td>1538.0</td>\n",
       "      <td>2070.0</td>\n",
       "      <td>2737.0</td>\n",
       "      <td>3477.0</td>\n",
       "    </tr>\n",
       "    <tr>\n",
       "      <th>Bedrooms</th>\n",
       "      <td>1000.0</td>\n",
       "      <td>2.667</td>\n",
       "      <td>1.349790</td>\n",
       "      <td>1.0</td>\n",
       "      <td>1.0</td>\n",
       "      <td>3.0</td>\n",
       "      <td>4.0</td>\n",
       "      <td>5.0</td>\n",
       "    </tr>\n",
       "    <tr>\n",
       "      <th>Bathrooms</th>\n",
       "      <td>1000.0</td>\n",
       "      <td>1.990</td>\n",
       "      <td>0.804081</td>\n",
       "      <td>1.0</td>\n",
       "      <td>1.0</td>\n",
       "      <td>2.0</td>\n",
       "      <td>3.0</td>\n",
       "      <td>3.0</td>\n",
       "    </tr>\n",
       "    <tr>\n",
       "      <th>Year Built</th>\n",
       "      <td>1000.0</td>\n",
       "      <td>1984.981</td>\n",
       "      <td>21.170329</td>\n",
       "      <td>1950.0</td>\n",
       "      <td>1965.0</td>\n",
       "      <td>1983.0</td>\n",
       "      <td>2004.0</td>\n",
       "      <td>2019.0</td>\n",
       "    </tr>\n",
       "    <tr>\n",
       "      <th>Condition</th>\n",
       "      <td>1000.0</td>\n",
       "      <td>3.107</td>\n",
       "      <td>1.507921</td>\n",
       "      <td>1.0</td>\n",
       "      <td>2.0</td>\n",
       "      <td>3.0</td>\n",
       "      <td>5.0</td>\n",
       "      <td>5.0</td>\n",
       "    </tr>\n",
       "    <tr>\n",
       "      <th>Price</th>\n",
       "      <td>1000.0</td>\n",
       "      <td>282989.120</td>\n",
       "      <td>130220.566705</td>\n",
       "      <td>54748.0</td>\n",
       "      <td>172402.0</td>\n",
       "      <td>309747.0</td>\n",
       "      <td>391003.0</td>\n",
       "      <td>498345.0</td>\n",
       "    </tr>\n",
       "  </tbody>\n",
       "</table>\n",
       "</div>"
      ],
      "text/plain": [
       "              count        mean            std      min       25%       50%  \\\n",
       "Size (sqft)  1000.0    2113.144     766.567480    595.0    1538.0    2070.0   \n",
       "Bedrooms     1000.0       2.667       1.349790      1.0       1.0       3.0   \n",
       "Bathrooms    1000.0       1.990       0.804081      1.0       1.0       2.0   \n",
       "Year Built   1000.0    1984.981      21.170329   1950.0    1965.0    1983.0   \n",
       "Condition    1000.0       3.107       1.507921      1.0       2.0       3.0   \n",
       "Price        1000.0  282989.120  130220.566705  54748.0  172402.0  309747.0   \n",
       "\n",
       "                  75%       max  \n",
       "Size (sqft)    2737.0    3477.0  \n",
       "Bedrooms          4.0       5.0  \n",
       "Bathrooms         3.0       3.0  \n",
       "Year Built     2004.0    2019.0  \n",
       "Condition         5.0       5.0  \n",
       "Price        391003.0  498345.0  "
      ]
     },
     "execution_count": 27,
     "metadata": {},
     "output_type": "execute_result"
    }
   ],
   "source": [
    "df.describe().T"
   ]
  },
  {
   "cell_type": "code",
   "execution_count": 32,
   "id": "56efc90e-fea6-4988-8b03-18cedf327eaf",
   "metadata": {},
   "outputs": [
    {
     "data": {
      "text/plain": [
       "Text(0, 0.5, 'Frequancy')"
      ]
     },
     "execution_count": 32,
     "metadata": {},
     "output_type": "execute_result"
    },
    {
     "data": {
      "image/png": "[encoded data removed]",
      "text/plain": [
       "<Figure size 1000x1000 with 1 Axes>"
      ]
     },
     "metadata": {},
     "output_type": "display_data"
    }
   ],
   "source": [
    "plt.figure(figsize=(10,10))\n",
    "sns.histplot(x='Price',data=df,color='green',kde=True)\n",
    "plt.title('Price Distribution')\n",
    "plt.xlabel('Price')\n",
    "plt.ylabel('Frequancy')"
   ]
  },
  {
   "cell_type": "code",
   "execution_count": 35,
   "id": "044e9188-4a4e-4575-a220-61902c541df2",
   "metadata": {},
   "outputs": [
    {
     "data": {
      "text/plain": [
       "Text(0, 0.5, 'Frequancy')"
      ]
     },
     "execution_count": 35,
     "metadata": {},
     "output_type": "execute_result"
    },
    {
     "data": {
      "image/png": "[encoded data removed]",
      "text/plain": [
       "<Figure size 1000x1000 with 1 Axes>"
      ]
     },
     "metadata": {},
     "output_type": "display_data"
    }
   ],
   "source": [
    "plt.figure(figsize=(10,10))\n",
    "sns.scatterplot(x='Price',y='Size (sqft)',data=df,color='green')\n",
    "plt.title('Price Distribution')\n",
    "plt.xlabel('Price')\n",
    "plt.ylabel('Frequancy')"
   ]
  },
  {
   "cell_type": "code",
   "execution_count": 37,
   "id": "1dd003b6-b49e-4fbd-81ee-bd1005241e22",
   "metadata": {},
   "outputs": [
    {
     "data": {
      "text/plain": [
       "Text(0, 0.5, 'Price')"
      ]
     },
     "execution_count": 37,
     "metadata": {},
     "output_type": "execute_result"
    },
    {
     "data": {
      "image/png": "[encoded data removed]",
      "text/plain": [
       "<Figure size 1000x1000 with 1 Axes>"
      ]
     },
     "metadata": {},
     "output_type": "display_data"
    }
   ],
   "source": [
    "plt.figure(figsize=(10,10))\n",
    "sns.barplot(x='Location',y='Price',data=df,color='green')\n",
    "plt.title('Impact loctation on price')\n",
    "plt.xlabel('Location')\n",
    "plt.ylabel('Price')"
   ]
  },
  {
   "cell_type": "markdown",
   "id": "59790486-640a-4f72-87b6-41cca75b7662",
   "metadata": {},
   "source": [
    "# 3.Data_Preparation"
   ]
  },
  {
   "cell_type": "code",
   "execution_count": 72,
   "id": "89790299-59e4-42b7-bf52-ac17b80c8994",
   "metadata": {},
   "outputs": [
    {
     "data": {
      "text/plain": [
       "Location       0\n",
       "Size (sqft)    0\n",
       "Bedrooms       0\n",
       "Bathrooms      0\n",
       "Year Built     0\n",
       "Condition      0\n",
       "Price          0\n",
       "dtype: int64"
      ]
     },
     "execution_count": 72,
     "metadata": {},
     "output_type": "execute_result"
    }
   ],
   "source": [
    "df.isna().sum()"
   ]
  },
  {
   "cell_type": "code",
   "execution_count": 73,
   "id": "bdbe391e-7c20-43b0-9a07-21be47efa0ad",
   "metadata": {},
   "outputs": [],
   "source": [
    "from sklearn.preprocessing import LabelEncoder\n",
    "le_col=['Location']\n",
    "le={}\n",
    "for col in le_col:\n",
    "    le[col]=LabelEncoder()\n",
    "    df[col]=le[col].fit_transform(df[col])"
   ]
  },
  {
   "cell_type": "code",
   "execution_count": 74,
   "id": "c6141e90-6820-4c5f-a3ba-50250433cfae",
   "metadata": {},
   "outputs": [
    {
     "data": {
      "text/plain": [
       "['le_col.pkl']"
      ]
     },
     "execution_count": 74,
     "metadata": {},
     "output_type": "execute_result"
    }
   ],
   "source": [
    "joblib.dump(le,'le_col.pkl')"
   ]
  },
  {
   "cell_type": "code",
   "execution_count": 79,
   "id": "226b6e58-a5ba-40a5-a91d-48b64ed45070",
   "metadata": {},
   "outputs": [
    {
     "name": "stdout",
     "output_type": "stream",
     "text": [
      "<class 'pandas.core.frame.DataFrame'>\n",
      "RangeIndex: 1000 entries, 0 to 999\n",
      "Data columns (total 7 columns):\n",
      " #   Column       Non-Null Count  Dtype\n",
      "---  ------       --------------  -----\n",
      " 0   Location     1000 non-null   int32\n",
      " 1   Size (sqft)  1000 non-null   int64\n",
      " 2   Bedrooms     1000 non-null   int64\n",
      " 3   Bathrooms    1000 non-null   int64\n",
      " 4   Year Built   1000 non-null   int64\n",
      " 5   Condition    1000 non-null   int64\n",
      " 6   Price        1000 non-null   int64\n",
      "dtypes: int32(1), int64(6)\n",
      "memory usage: 50.9 KB\n"
     ]
    }
   ],
   "source": [
    "df.info()"
   ]
  },
  {
   "cell_type": "code",
   "execution_count": 81,
   "id": "009f68c9-d95a-45d2-84e6-344de418379d",
   "metadata": {},
   "outputs": [],
   "source": [
    "from sklearn.preprocessing import StandardScaler"
   ]
  },
  {
   "cell_type": "code",
   "execution_count": 83,
   "id": "44f12bb6-3083-459c-8ffe-7a1f93c09028",
   "metadata": {},
   "outputs": [
    {
     "data": {
      "text/plain": [
       "Index(['Location', 'Size (sqft)', 'Bedrooms', 'Bathrooms', 'Year Built',\n",
       "       'Condition', 'Price'],\n",
       "      dtype='object')"
      ]
     },
     "execution_count": 83,
     "metadata": {},
     "output_type": "execute_result"
    }
   ],
   "source": [
    "df.columns"
   ]
  },
  {
   "cell_type": "code",
   "execution_count": 85,
   "id": "529f2584-bf75-4f00-ad08-6343cfb2a326",
   "metadata": {},
   "outputs": [],
   "source": [
    "std_col=['Size (sqft)', 'Bedrooms', 'Bathrooms', 'Year Built','Condition']\n",
    "std=StandardScaler()\n",
    "df[std_col]=std.fit_transform(df[std_col])"
   ]
  },
  {
   "cell_type": "code",
   "execution_count": 87,
   "id": "dcba295a-21a7-4660-9dfd-16362ccef68b",
   "metadata": {},
   "outputs": [
    {
     "data": {
      "text/plain": [
       "['std_col.pkl']"
      ]
     },
     "execution_count": 87,
     "metadata": {},
     "output_type": "execute_result"
    }
   ],
   "source": [
    "joblib.dump(std,'std_col.pkl')"
   ]
  },
  {
   "cell_type": "code",
   "execution_count": 89,
   "id": "123afc31-fa98-4e89-8a44-3f0f130392cf",
   "metadata": {},
   "outputs": [
    {
     "data": {
      "text/html": [
       "<div>\n",
       "<style scoped>\n",
       "    .dataframe tbody tr th:only-of-type {\n",
       "        vertical-align: middle;\n",
       "    }\n",
       "\n",
       "    .dataframe tbody tr th {\n",
       "        vertical-align: top;\n",
       "    }\n",
       "\n",
       "    .dataframe thead th {\n",
       "        text-align: right;\n",
       "    }\n",
       "</style>\n",
       "<table border=\"1\" class=\"dataframe\">\n",
       "  <thead>\n",
       "    <tr style=\"text-align: right;\">\n",
       "      <th></th>\n",
       "      <th>Location</th>\n",
       "      <th>Size (sqft)</th>\n",
       "      <th>Bedrooms</th>\n",
       "      <th>Bathrooms</th>\n",
       "      <th>Year Built</th>\n",
       "      <th>Condition</th>\n",
       "      <th>Price</th>\n",
       "    </tr>\n",
       "  </thead>\n",
       "  <tbody>\n",
       "    <tr>\n",
       "      <th>0</th>\n",
       "      <td>1</td>\n",
       "      <td>-1.067816</td>\n",
       "      <td>1.729282</td>\n",
       "      <td>-1.231835</td>\n",
       "      <td>1.040608</td>\n",
       "      <td>1.255999</td>\n",
       "      <td>61023</td>\n",
       "    </tr>\n",
       "    <tr>\n",
       "      <th>1</th>\n",
       "      <td>2</td>\n",
       "      <td>-1.240099</td>\n",
       "      <td>-1.235625</td>\n",
       "      <td>1.256721</td>\n",
       "      <td>-1.133331</td>\n",
       "      <td>-1.397988</td>\n",
       "      <td>216619</td>\n",
       "    </tr>\n",
       "    <tr>\n",
       "      <th>2</th>\n",
       "      <td>2</td>\n",
       "      <td>-0.121569</td>\n",
       "      <td>-1.235625</td>\n",
       "      <td>0.012443</td>\n",
       "      <td>-0.093621</td>\n",
       "      <td>1.255999</td>\n",
       "      <td>168012</td>\n",
       "    </tr>\n",
       "    <tr>\n",
       "      <th>3</th>\n",
       "      <td>1</td>\n",
       "      <td>-1.088699</td>\n",
       "      <td>-0.494398</td>\n",
       "      <td>-1.231835</td>\n",
       "      <td>0.898830</td>\n",
       "      <td>-1.397988</td>\n",
       "      <td>206542</td>\n",
       "    </tr>\n",
       "  </tbody>\n",
       "</table>\n",
       "</div>"
      ],
      "text/plain": [
       "   Location  Size (sqft)  Bedrooms  Bathrooms  Year Built  Condition   Price\n",
       "0         1    -1.067816  1.729282  -1.231835    1.040608   1.255999   61023\n",
       "1         2    -1.240099 -1.235625   1.256721   -1.133331  -1.397988  216619\n",
       "2         2    -0.121569 -1.235625   0.012443   -0.093621   1.255999  168012\n",
       "3         1    -1.088699 -0.494398  -1.231835    0.898830  -1.397988  206542"
      ]
     },
     "execution_count": 89,
     "metadata": {},
     "output_type": "execute_result"
    }
   ],
   "source": [
    "df.head(4)"
   ]
  },
  {
   "cell_type": "markdown",
   "id": "30fd4cd6-23c5-4a9a-a8d2-9edbdbe373b7",
   "metadata": {},
   "source": [
    "# 4.Modeling"
   ]
  },
  {
   "cell_type": "code",
   "execution_count": 96,
   "id": "2aa516ad-0707-4380-b054-87c1d815e20a",
   "metadata": {},
   "outputs": [],
   "source": [
    " from sklearn.model_selection import train_test_split"
   ]
  },
  {
   "cell_type": "code",
   "execution_count": 97,
   "id": "383ff200-45ec-4a99-a576-3f9ff9d6ea9b",
   "metadata": {},
   "outputs": [],
   "source": [
    "x=df.drop('Price',axis=1)\n",
    "y=df['Price']"
   ]
  },
  {
   "cell_type": "code",
   "execution_count": 99,
   "id": "63092789-0d7b-4cea-be1a-48910efa58f2",
   "metadata": {},
   "outputs": [],
   "source": [
    "x_train,x_test,y_train,y_test=train_test_split(x,y,test_size=0.2,random_state=42)"
   ]
  },
  {
   "cell_type": "code",
   "execution_count": 100,
   "id": "1d49d943-d2da-45f4-8d4c-ddb8826c871f",
   "metadata": {},
   "outputs": [],
   "source": [
    "from sklearn.linear_model import LinearRegression\n",
    "from sklearn.ensemble import RandomForestRegressor\n",
    "from sklearn.tree import DecisionTreeRegressor\n",
    "from sklearn.metrics import mean_absolute_error,mean_squared_error,r2_score"
   ]
  },
  {
   "cell_type": "code",
   "execution_count": 101,
   "id": "e8dd73da-02f2-4f37-85bc-bfdcc570a8f6",
   "metadata": {},
   "outputs": [
    {
     "data": {
      "text/html": [
       "<style>#sk-container-id-2 {\n",
       "  /* Definition of color scheme common for light and dark mode */\n",
       "  --sklearn-color-text: black;\n",
       "  --sklearn-color-line: gray;\n",
       "  /* Definition of color scheme for unfitted estimators */\n",
       "  --sklearn-color-unfitted-level-0: #fff5e6;\n",
       "  --sklearn-color-unfitted-level-1: #f6e4d2;\n",
       "  --sklearn-color-unfitted-level-2: #ffe0b3;\n",
       "  --sklearn-color-unfitted-level-3: chocolate;\n",
       "  /* Definition of color scheme for fitted estimators */\n",
       "  --sklearn-color-fitted-level-0: #f0f8ff;\n",
       "  --sklearn-color-fitted-level-1: #d4ebff;\n",
       "  --sklearn-color-fitted-level-2: #b3dbfd;\n",
       "  --sklearn-color-fitted-level-3: cornflowerblue;\n",
       "\n",
       "  /* Specific color for light theme */\n",
       "  --sklearn-color-text-on-default-background: var(--sg-text-color, var(--theme-code-foreground, var(--jp-content-font-color1, black)));\n",
       "  --sklearn-color-background: var(--sg-background-color, var(--theme-background, var(--jp-layout-color0, white)));\n",
       "  --sklearn-color-border-box: var(--sg-text-color, var(--theme-code-foreground, var(--jp-content-font-color1, black)));\n",
       "  --sklearn-color-icon: #696969;\n",
       "\n",
       "  @media (prefers-color-scheme: dark) {\n",
       "    /* Redefinition of color scheme for dark theme */\n",
       "    --sklearn-color-text-on-default-background: var(--sg-text-color, var(--theme-code-foreground, var(--jp-content-font-color1, white)));\n",
       "    --sklearn-color-background: var(--sg-background-color, var(--theme-background, var(--jp-layout-color0, #111)));\n",
       "    --sklearn-color-border-box: var(--sg-text-color, var(--theme-code-foreground, var(--jp-content-font-color1, white)));\n",
       "    --sklearn-color-icon: #878787;\n",
       "  }\n",
       "}\n",
       "\n",
       "#sk-container-id-2 {\n",
       "  color: var(--sklearn-color-text);\n",
       "}\n",
       "\n",
       "#sk-container-id-2 pre {\n",
       "  padding: 0;\n",
       "}\n",
       "\n",
       "#sk-container-id-2 input.sk-hidden--visually {\n",
       "  border: 0;\n",
       "  clip: rect(1px 1px 1px 1px);\n",
       "  clip: rect(1px, 1px, 1px, 1px);\n",
       "  height: 1px;\n",
       "  margin: -1px;\n",
       "  overflow: hidden;\n",
       "  padding: 0;\n",
       "  position: absolute;\n",
       "  width: 1px;\n",
       "}\n",
       "\n",
       "#sk-container-id-2 div.sk-dashed-wrapped {\n",
       "  border: 1px dashed var(--sklearn-color-line);\n",
       "  margin: 0 0.4em 0.5em 0.4em;\n",
       "  box-sizing: border-box;\n",
       "  padding-bottom: 0.4em;\n",
       "  background-color: var(--sklearn-color-background);\n",
       "}\n",
       "\n",
       "#sk-container-id-2 div.sk-container {\n",
       "  /* jupyter's `normalize.less` sets `[hidden] { display: none; }`\n",
       "     but bootstrap.min.css set `[hidden] { display: none !important; }`\n",
       "     so we also need the `!important` here to be able to override the\n",
       "     default hidden behavior on the sphinx rendered scikit-learn.org.\n",
       "     See: https://github.com/scikit-learn/scikit-learn/issues/21755 */\n",
       "  display: inline-block !important;\n",
       "  position: relative;\n",
       "}\n",
       "\n",
       "#sk-container-id-2 div.sk-text-repr-fallback {\n",
       "  display: none;\n",
       "}\n",
       "\n",
       "div.sk-parallel-item,\n",
       "div.sk-serial,\n",
       "div.sk-item {\n",
       "  /* draw centered vertical line to link estimators */\n",
       "  background-image: linear-gradient(var(--sklearn-color-text-on-default-background), var(--sklearn-color-text-on-default-background));\n",
       "  background-size: 2px 100%;\n",
       "  background-repeat: no-repeat;\n",
       "  background-position: center center;\n",
       "}\n",
       "\n",
       "/* Parallel-specific style estimator block */\n",
       "\n",
       "#sk-container-id-2 div.sk-parallel-item::after {\n",
       "  content: \"\";\n",
       "  width: 100%;\n",
       "  border-bottom: 2px solid var(--sklearn-color-text-on-default-background);\n",
       "  flex-grow: 1;\n",
       "}\n",
       "\n",
       "#sk-container-id-2 div.sk-parallel {\n",
       "  display: flex;\n",
       "  align-items: stretch;\n",
       "  justify-content: center;\n",
       "  background-color: var(--sklearn-color-background);\n",
       "  position: relative;\n",
       "}\n",
       "\n",
       "#sk-container-id-2 div.sk-parallel-item {\n",
       "  display: flex;\n",
       "  flex-direction: column;\n",
       "}\n",
       "\n",
       "#sk-container-id-2 div.sk-parallel-item:first-child::after {\n",
       "  align-self: flex-end;\n",
       "  width: 50%;\n",
       "}\n",
       "\n",
       "#sk-container-id-2 div.sk-parallel-item:last-child::after {\n",
       "  align-self: flex-start;\n",
       "  width: 50%;\n",
       "}\n",
       "\n",
       "#sk-container-id-2 div.sk-parallel-item:only-child::after {\n",
       "  width: 0;\n",
       "}\n",
       "\n",
       "/* Serial-specific style estimator block */\n",
       "\n",
       "#sk-container-id-2 div.sk-serial {\n",
       "  display: flex;\n",
       "  flex-direction: column;\n",
       "  align-items: center;\n",
       "  background-color: var(--sklearn-color-background);\n",
       "  padding-right: 1em;\n",
       "  padding-left: 1em;\n",
       "}\n",
       "\n",
       "\n",
       "/* Toggleable style: style used for estimator/Pipeline/ColumnTransformer box that is\n",
       "clickable and can be expanded/collapsed.\n",
       "- Pipeline and ColumnTransformer use this feature and define the default style\n",
       "- Estimators will overwrite some part of the style using the `sk-estimator` class\n",
       "*/\n",
       "\n",
       "/* Pipeline and ColumnTransformer style (default) */\n",
       "\n",
       "#sk-container-id-2 div.sk-toggleable {\n",
       "  /* Default theme specific background. It is overwritten whether we have a\n",
       "  specific estimator or a Pipeline/ColumnTransformer */\n",
       "  background-color: var(--sklearn-color-background);\n",
       "}\n",
       "\n",
       "/* Toggleable label */\n",
       "#sk-container-id-2 label.sk-toggleable__label {\n",
       "  cursor: pointer;\n",
       "  display: block;\n",
       "  width: 100%;\n",
       "  margin-bottom: 0;\n",
       "  padding: 0.5em;\n",
       "  box-sizing: border-box;\n",
       "  text-align: center;\n",
       "}\n",
       "\n",
       "#sk-container-id-2 label.sk-toggleable__label-arrow:before {\n",
       "  /* Arrow on the left of the label */\n",
       "  content: \"▸\";\n",
       "  float: left;\n",
       "  margin-right: 0.25em;\n",
       "  color: var(--sklearn-color-icon);\n",
       "}\n",
       "\n",
       "#sk-container-id-2 label.sk-toggleable__label-arrow:hover:before {\n",
       "  color: var(--sklearn-color-text);\n",
       "}\n",
       "\n",
       "/* Toggleable content - dropdown */\n",
       "\n",
       "#sk-container-id-2 div.sk-toggleable__content {\n",
       "  max-height: 0;\n",
       "  max-width: 0;\n",
       "  overflow: hidden;\n",
       "  text-align: left;\n",
       "  /* unfitted */\n",
       "  background-color: var(--sklearn-color-unfitted-level-0);\n",
       "}\n",
       "\n",
       "#sk-container-id-2 div.sk-toggleable__content.fitted {\n",
       "  /* fitted */\n",
       "  background-color: var(--sklearn-color-fitted-level-0);\n",
       "}\n",
       "\n",
       "#sk-container-id-2 div.sk-toggleable__content pre {\n",
       "  margin: 0.2em;\n",
       "  border-radius: 0.25em;\n",
       "  color: var(--sklearn-color-text);\n",
       "  /* unfitted */\n",
       "  background-color: var(--sklearn-color-unfitted-level-0);\n",
       "}\n",
       "\n",
       "#sk-container-id-2 div.sk-toggleable__content.fitted pre {\n",
       "  /* unfitted */\n",
       "  background-color: var(--sklearn-color-fitted-level-0);\n",
       "}\n",
       "\n",
       "#sk-container-id-2 input.sk-toggleable__control:checked~div.sk-toggleable__content {\n",
       "  /* Expand drop-down */\n",
       "  max-height: 200px;\n",
       "  max-width: 100%;\n",
       "  overflow: auto;\n",
       "}\n",
       "\n",
       "#sk-container-id-2 input.sk-toggleable__control:checked~label.sk-toggleable__label-arrow:before {\n",
       "  content: \"▾\";\n",
       "}\n",
       "\n",
       "/* Pipeline/ColumnTransformer-specific style */\n",
       "\n",
       "#sk-container-id-2 div.sk-label input.sk-toggleable__control:checked~label.sk-toggleable__label {\n",
       "  color: var(--sklearn-color-text);\n",
       "  background-color: var(--sklearn-color-unfitted-level-2);\n",
       "}\n",
       "\n",
       "#sk-container-id-2 div.sk-label.fitted input.sk-toggleable__control:checked~label.sk-toggleable__label {\n",
       "  background-color: var(--sklearn-color-fitted-level-2);\n",
       "}\n",
       "\n",
       "/* Estimator-specific style */\n",
       "\n",
       "/* Colorize estimator box */\n",
       "#sk-container-id-2 div.sk-estimator input.sk-toggleable__control:checked~label.sk-toggleable__label {\n",
       "  /* unfitted */\n",
       "  background-color: var(--sklearn-color-unfitted-level-2);\n",
       "}\n",
       "\n",
       "#sk-container-id-2 div.sk-estimator.fitted input.sk-toggleable__control:checked~label.sk-toggleable__label {\n",
       "  /* fitted */\n",
       "  background-color: var(--sklearn-color-fitted-level-2);\n",
       "}\n",
       "\n",
       "#sk-container-id-2 div.sk-label label.sk-toggleable__label,\n",
       "#sk-container-id-2 div.sk-label label {\n",
       "  /* The background is the default theme color */\n",
       "  color: var(--sklearn-color-text-on-default-background);\n",
       "}\n",
       "\n",
       "/* On hover, darken the color of the background */\n",
       "#sk-container-id-2 div.sk-label:hover label.sk-toggleable__label {\n",
       "  color: var(--sklearn-color-text);\n",
       "  background-color: var(--sklearn-color-unfitted-level-2);\n",
       "}\n",
       "\n",
       "/* Label box, darken color on hover, fitted */\n",
       "#sk-container-id-2 div.sk-label.fitted:hover label.sk-toggleable__label.fitted {\n",
       "  color: var(--sklearn-color-text);\n",
       "  background-color: var(--sklearn-color-fitted-level-2);\n",
       "}\n",
       "\n",
       "/* Estimator label */\n",
       "\n",
       "#sk-container-id-2 div.sk-label label {\n",
       "  font-family: monospace;\n",
       "  font-weight: bold;\n",
       "  display: inline-block;\n",
       "  line-height: 1.2em;\n",
       "}\n",
       "\n",
       "#sk-container-id-2 div.sk-label-container {\n",
       "  text-align: center;\n",
       "}\n",
       "\n",
       "/* Estimator-specific */\n",
       "#sk-container-id-2 div.sk-estimator {\n",
       "  font-family: monospace;\n",
       "  border: 1px dotted var(--sklearn-color-border-box);\n",
       "  border-radius: 0.25em;\n",
       "  box-sizing: border-box;\n",
       "  margin-bottom: 0.5em;\n",
       "  /* unfitted */\n",
       "  background-color: var(--sklearn-color-unfitted-level-0);\n",
       "}\n",
       "\n",
       "#sk-container-id-2 div.sk-estimator.fitted {\n",
       "  /* fitted */\n",
       "  background-color: var(--sklearn-color-fitted-level-0);\n",
       "}\n",
       "\n",
       "/* on hover */\n",
       "#sk-container-id-2 div.sk-estimator:hover {\n",
       "  /* unfitted */\n",
       "  background-color: var(--sklearn-color-unfitted-level-2);\n",
       "}\n",
       "\n",
       "#sk-container-id-2 div.sk-estimator.fitted:hover {\n",
       "  /* fitted */\n",
       "  background-color: var(--sklearn-color-fitted-level-2);\n",
       "}\n",
       "\n",
       "/* Specification for estimator info (e.g. \"i\" and \"?\") */\n",
       "\n",
       "/* Common style for \"i\" and \"?\" */\n",
       "\n",
       ".sk-estimator-doc-link,\n",
       "a:link.sk-estimator-doc-link,\n",
       "a:visited.sk-estimator-doc-link {\n",
       "  float: right;\n",
       "  font-size: smaller;\n",
       "  line-height: 1em;\n",
       "  font-family: monospace;\n",
       "  background-color: var(--sklearn-color-background);\n",
       "  border-radius: 1em;\n",
       "  height: 1em;\n",
       "  width: 1em;\n",
       "  text-decoration: none !important;\n",
       "  margin-left: 1ex;\n",
       "  /* unfitted */\n",
       "  border: var(--sklearn-color-unfitted-level-1) 1pt solid;\n",
       "  color: var(--sklearn-color-unfitted-level-1);\n",
       "}\n",
       "\n",
       ".sk-estimator-doc-link.fitted,\n",
       "a:link.sk-estimator-doc-link.fitted,\n",
       "a:visited.sk-estimator-doc-link.fitted {\n",
       "  /* fitted */\n",
       "  border: var(--sklearn-color-fitted-level-1) 1pt solid;\n",
       "  color: var(--sklearn-color-fitted-level-1);\n",
       "}\n",
       "\n",
       "/* On hover */\n",
       "div.sk-estimator:hover .sk-estimator-doc-link:hover,\n",
       ".sk-estimator-doc-link:hover,\n",
       "div.sk-label-container:hover .sk-estimator-doc-link:hover,\n",
       ".sk-estimator-doc-link:hover {\n",
       "  /* unfitted */\n",
       "  background-color: var(--sklearn-color-unfitted-level-3);\n",
       "  color: var(--sklearn-color-background);\n",
       "  text-decoration: none;\n",
       "}\n",
       "\n",
       "div.sk-estimator.fitted:hover .sk-estimator-doc-link.fitted:hover,\n",
       ".sk-estimator-doc-link.fitted:hover,\n",
       "div.sk-label-container:hover .sk-estimator-doc-link.fitted:hover,\n",
       ".sk-estimator-doc-link.fitted:hover {\n",
       "  /* fitted */\n",
       "  background-color: var(--sklearn-color-fitted-level-3);\n",
       "  color: var(--sklearn-color-background);\n",
       "  text-decoration: none;\n",
       "}\n",
       "\n",
       "/* Span, style for the box shown on hovering the info icon */\n",
       ".sk-estimator-doc-link span {\n",
       "  display: none;\n",
       "  z-index: 9999;\n",
       "  position: relative;\n",
       "  font-weight: normal;\n",
       "  right: .2ex;\n",
       "  padding: .5ex;\n",
       "  margin: .5ex;\n",
       "  width: min-content;\n",
       "  min-width: 20ex;\n",
       "  max-width: 50ex;\n",
       "  color: var(--sklearn-color-text);\n",
       "  box-shadow: 2pt 2pt 4pt #999;\n",
       "  /* unfitted */\n",
       "  background: var(--sklearn-color-unfitted-level-0);\n",
       "  border: .5pt solid var(--sklearn-color-unfitted-level-3);\n",
       "}\n",
       "\n",
       ".sk-estimator-doc-link.fitted span {\n",
       "  /* fitted */\n",
       "  background: var(--sklearn-color-fitted-level-0);\n",
       "  border: var(--sklearn-color-fitted-level-3);\n",
       "}\n",
       "\n",
       ".sk-estimator-doc-link:hover span {\n",
       "  display: block;\n",
       "}\n",
       "\n",
       "/* \"?\"-specific style due to the `<a>` HTML tag */\n",
       "\n",
       "#sk-container-id-2 a.estimator_doc_link {\n",
       "  float: right;\n",
       "  font-size: 1rem;\n",
       "  line-height: 1em;\n",
       "  font-family: monospace;\n",
       "  background-color: var(--sklearn-color-background);\n",
       "  border-radius: 1rem;\n",
       "  height: 1rem;\n",
       "  width: 1rem;\n",
       "  text-decoration: none;\n",
       "  /* unfitted */\n",
       "  color: var(--sklearn-color-unfitted-level-1);\n",
       "  border: var(--sklearn-color-unfitted-level-1) 1pt solid;\n",
       "}\n",
       "\n",
       "#sk-container-id-2 a.estimator_doc_link.fitted {\n",
       "  /* fitted */\n",
       "  border: var(--sklearn-color-fitted-level-1) 1pt solid;\n",
       "  color: var(--sklearn-color-fitted-level-1);\n",
       "}\n",
       "\n",
       "/* On hover */\n",
       "#sk-container-id-2 a.estimator_doc_link:hover {\n",
       "  /* unfitted */\n",
       "  background-color: var(--sklearn-color-unfitted-level-3);\n",
       "  color: var(--sklearn-color-background);\n",
       "  text-decoration: none;\n",
       "}\n",
       "\n",
       "#sk-container-id-2 a.estimator_doc_link.fitted:hover {\n",
       "  /* fitted */\n",
       "  background-color: var(--sklearn-color-fitted-level-3);\n",
       "}\n",
       "</style><div id=\"sk-container-id-2\" class=\"sk-top-container\"><div class=\"sk-text-repr-fallback\"><pre>RandomForestRegressor()</pre><b>In a Jupyter environment, please rerun this cell to show the HTML representation or trust the notebook. <br />On GitHub, the HTML representation is unable to render, please try loading this page with nbviewer.org.</b></div><div class=\"sk-container\" hidden><div class=\"sk-item\"><div class=\"sk-estimator fitted sk-toggleable\"><input class=\"sk-toggleable__control sk-hidden--visually\" id=\"sk-estimator-id-2\" type=\"checkbox\" checked><label for=\"sk-estimator-id-2\" class=\"sk-toggleable__label fitted sk-toggleable__label-arrow fitted\">&nbsp;&nbsp;RandomForestRegressor<a class=\"sk-estimator-doc-link fitted\" rel=\"noreferrer\" target=\"_blank\" href=\"https://scikit-learn.org/1.5/modules/generated/sklearn.ensemble.RandomForestRegressor.html\">?<span>Documentation for RandomForestRegressor</span></a><span class=\"sk-estimator-doc-link fitted\">i<span>Fitted</span></span></label><div class=\"sk-toggleable__content fitted\"><pre>RandomForestRegressor()</pre></div> </div></div></div></div>"
      ],
      "text/plain": [
       "RandomForestRegressor()"
      ]
     },
     "execution_count": 101,
     "metadata": {},
     "output_type": "execute_result"
    }
   ],
   "source": [
    "lr=LinearRegression()\n",
    "dt=DecisionTreeRegressor()\n",
    "rf=RandomForestRegressor()\n",
    "lr.fit(x_train,y_train)\n",
    "dt.fit(x_train,y_train)\n",
    "rf.fit(x_train,y_train)"
   ]
  },
  {
   "cell_type": "code",
   "execution_count": 103,
   "id": "2bbda282-7ed3-43d9-a527-5f96c114a171",
   "metadata": {},
   "outputs": [
    {
     "data": {
      "text/plain": [
       "['model.pkl']"
      ]
     },
     "execution_count": 103,
     "metadata": {},
     "output_type": "execute_result"
    }
   ],
   "source": [
    "joblib.dump(lr,'model.pkl')"
   ]
  },
  {
   "cell_type": "code",
   "execution_count": 104,
   "id": "8cdc8cb0-5097-45c4-9821-7da5d4a10822",
   "metadata": {},
   "outputs": [],
   "source": [
    "y_pred_lr=lr.predict(x_test)\n",
    "y_pred_dt=dt.predict(x_test)\n",
    "y_pred_rf=rf.predict(x_test)"
   ]
  },
  {
   "cell_type": "markdown",
   "id": "6bbf6c8d-83ec-40da-b43d-bca212cf57e3",
   "metadata": {},
   "source": [
    "# 5.Evaluation"
   ]
  },
  {
   "cell_type": "code",
   "execution_count": 105,
   "id": "94a72ba5-8785-44ba-9d8e-914e27e65033",
   "metadata": {},
   "outputs": [
    {
     "name": "stdout",
     "output_type": "stream",
     "text": [
      "lr MSE 15770483148.400627\n",
      "dt MSE 0.0\n",
      "rf MSE 1242405.9672374977\n"
     ]
    }
   ],
   "source": [
    "print('lr MSE',mean_squared_error(y_test,y_pred_lr))\n",
    "print('dt MSE',mean_squared_error(y_test,y_pred_dt))\n",
    "print('rf MSE',mean_squared_error(y_test,y_pred_rf))"
   ]
  },
  {
   "cell_type": "code",
   "execution_count": 106,
   "id": "8e2f6e92-d7db-45fd-9c0c-5d51e42e9deb",
   "metadata": {},
   "outputs": [
    {
     "name": "stdout",
     "output_type": "stream",
     "text": [
      "lr MAE 109912.47385351837\n",
      "dt MAE 0.0\n",
      "rf MAE 365.12014999999985\n"
     ]
    }
   ],
   "source": [
    "print('lr MAE',mean_absolute_error(y_test,y_pred_lr))\n",
    "print('dt MAE',mean_absolute_error(y_test,y_pred_dt))\n",
    "print('rf MAE',mean_absolute_error(y_test,y_pred_rf))"
   ]
  },
  {
   "cell_type": "code",
   "execution_count": 110,
   "id": "8a407e94-5262-448a-ac58-bbefcccd15fe",
   "metadata": {},
   "outputs": [
    {
     "name": "stdout",
     "output_type": "stream",
     "text": [
      "r2_score lr 0.06591055803266965\n",
      "r2_score dt 1.0\n",
      "r2_score rf 0.9999264120010964\n"
     ]
    }
   ],
   "source": [
    "print('r2_score lr',r2_score(y_test,y_pred_lr))\n",
    "print('r2_score dt',r2_score(y_test,y_pred_dt))\n",
    "print('r2_score rf',r2_score(y_test,y_pred_rf))"
   ]
  },
  {
   "cell_type": "code",
   "execution_count": 113,
   "id": "f29feb8f-8c60-4f4b-9f66-f2469cc562f1",
   "metadata": {},
   "outputs": [
    {
     "data": {
      "text/plain": [
       "<function matplotlib.pyplot.show(close=None, block=None)>"
      ]
     },
     "execution_count": 113,
     "metadata": {},
     "output_type": "execute_result"
    },
    {
     "data": {
      "image/png": "[encoded data removed]",
      "text/plain": [
       "<Figure size 1000x1000 with 1 Axes>"
      ]
     },
     "metadata": {},
     "output_type": "display_data"
    }
   ],
   "source": [
    "plt.figure(figsize=(10,10))\n",
    "plt.scatter(x=y_test,y=y_pred_lr,color='blue')\n",
    "plt.scatter(x=y_test,y=y_pred_dt,color='green')\n",
    "plt.scatter(x=y_test,y=y_pred_rf,color='red')\n",
    "plt.title('Actual Vs. Predicted')\n",
    "plt.xlabel('Actual')\n",
    "plt.ylabel('Predicted')\n",
    "plt.show"
   ]
  },
  {
   "cell_type": "code",
   "execution_count": 32,
   "id": "afca14f3-73e6-4bed-974e-ca3e1c472175",
   "metadata": {},
   "outputs": [
    {
     "data": {
      "text/plain": [
       "{'max_depth': 15, 'max_leaf_nodes': 50}"
      ]
     },
     "execution_count": 32,
     "metadata": {},
     "output_type": "execute_result"
    }
   ],
   "source": [
    "from sklearn.model_selection import GridSearchCV,RandomizedSearchCV\n",
    "# using GridSearchCV\n",
    "grid_pram={'max_depth':[5,10,15,30],'max_leaf_nodes':[10,20,30,50,15,5,7]}\n",
    "grid_search_model=GridSearchCV(estimator=DecisionTreeRegressor(),param_grid=grid_pram,cv=5)\n",
    "grid_search_model.fit(x_train,y_train)\n",
    "grid_search_model.best_params_"
   ]
  },
  {
   "cell_type": "code",
   "execution_count": 33,
   "id": "c5ccbf06-3783-472a-98e2-3e6226d667a5",
   "metadata": {},
   "outputs": [],
   "source": [
    "grid_y_predict=grid_search_model.best_estimator_.predict(x_test)"
   ]
  },
  {
   "cell_type": "code",
   "execution_count": 34,
   "id": "2f8970d4-9368-42a4-b463-54dbfbee8769",
   "metadata": {},
   "outputs": [
    {
     "name": "stdout",
     "output_type": "stream",
     "text": [
      "r2_Score GridSearchCV 0.9646924910607075\n",
      "MSE GridSearchCV 596106164.7012935\n",
      "MAE GridSearchCV 17223.220838076657\n"
     ]
    }
   ],
   "source": [
    "print('r2_Score GridSearchCV',r2_score(y_test,grid_y_predict))\n",
    "print('MSE GridSearchCV',mean_squared_error(y_test,grid_y_predict))\n",
    "print('MAE GridSearchCV',mean_absolute_error(y_test,grid_y_predict))"
   ]
  },
  {
   "cell_type": "code",
   "execution_count": 45,
   "id": "47034757-807f-4f8b-9f50-a271543461de",
   "metadata": {},
   "outputs": [
    {
     "data": {
      "text/plain": [
       "{'n_estimators': 400, 'max_depth': 15}"
      ]
     },
     "execution_count": 45,
     "metadata": {},
     "output_type": "execute_result"
    }
   ],
   "source": [
    "rondom_pram={'max_depth':[5,15,10,20],'n_estimators':[100,200,300,400]}\n",
    "rondom_model=RandomizedSearchCV(estimator=RandomForestRegressor(),param_distributions=rondom_pram,cv=5)\n",
    "rondom_model.fit(x_train,y_train)\n",
    "rondom_model.best_params_"
   ]
  },
  {
   "cell_type": "code",
   "execution_count": 47,
   "id": "9c7dfb5a-512b-4e96-a545-b549f9d68d70",
   "metadata": {},
   "outputs": [],
   "source": [
    "rondom_y_predict=rondom_model.best_estimator_.predict(x_test)"
   ]
  },
  {
   "cell_type": "code",
   "execution_count": 49,
   "id": "064bdd43-ca4c-4788-946f-f82d2201e414",
   "metadata": {},
   "outputs": [
    {
     "name": "stdout",
     "output_type": "stream",
     "text": [
      "r2_Score RandomizedSearchCV 0.9999356435846194\n",
      "MSE RandomizedSearchCV 1086546.6610073594\n",
      "MAE RandomizedSearchCV 427.70599605450406\n"
     ]
    }
   ],
   "source": [
    "print('r2_Score RandomizedSearchCV',r2_score(y_test,rondom_y_predict))\n",
    "print('MSE RandomizedSearchCV',mean_squared_error(y_test,rondom_y_predict))\n",
    "print('MAE RandomizedSearchCV',mean_absolute_error(y_test,rondom_y_predict))"
   ]
  },
  {
   "cell_type": "code",
   "execution_count": 54,
   "id": "c9aceae5-081d-4e55-a6b2-a0b73a6d24e0",
   "metadata": {
    "scrolled": true
   },
   "outputs": [
    {
     "data": {
      "text/html": [
       "<div>\n",
       "<style scoped>\n",
       "    .dataframe tbody tr th:only-of-type {\n",
       "        vertical-align: middle;\n",
       "    }\n",
       "\n",
       "    .dataframe tbody tr th {\n",
       "        vertical-align: top;\n",
       "    }\n",
       "\n",
       "    .dataframe thead th {\n",
       "        text-align: right;\n",
       "    }\n",
       "</style>\n",
       "<table border=\"1\" class=\"dataframe\">\n",
       "  <thead>\n",
       "    <tr style=\"text-align: right;\">\n",
       "      <th></th>\n",
       "      <th>Location</th>\n",
       "      <th>Size (sqft)</th>\n",
       "      <th>Bedrooms</th>\n",
       "      <th>Bathrooms</th>\n",
       "      <th>Year Built</th>\n",
       "      <th>Condition</th>\n",
       "      <th>Price</th>\n",
       "    </tr>\n",
       "  </thead>\n",
       "  <tbody>\n",
       "    <tr>\n",
       "      <th>0</th>\n",
       "      <td>1</td>\n",
       "      <td>-1.067816</td>\n",
       "      <td>1.729282</td>\n",
       "      <td>-1.231835</td>\n",
       "      <td>1.040608</td>\n",
       "      <td>1.255999</td>\n",
       "      <td>61023</td>\n",
       "    </tr>\n",
       "    <tr>\n",
       "      <th>1</th>\n",
       "      <td>2</td>\n",
       "      <td>-1.240099</td>\n",
       "      <td>-1.235625</td>\n",
       "      <td>1.256721</td>\n",
       "      <td>-1.133331</td>\n",
       "      <td>-1.397988</td>\n",
       "      <td>216619</td>\n",
       "    </tr>\n",
       "    <tr>\n",
       "      <th>2</th>\n",
       "      <td>2</td>\n",
       "      <td>-0.121569</td>\n",
       "      <td>-1.235625</td>\n",
       "      <td>0.012443</td>\n",
       "      <td>-0.093621</td>\n",
       "      <td>1.255999</td>\n",
       "      <td>168012</td>\n",
       "    </tr>\n",
       "    <tr>\n",
       "      <th>3</th>\n",
       "      <td>1</td>\n",
       "      <td>-1.088699</td>\n",
       "      <td>-0.494398</td>\n",
       "      <td>-1.231835</td>\n",
       "      <td>0.898830</td>\n",
       "      <td>-1.397988</td>\n",
       "      <td>206542</td>\n",
       "    </tr>\n",
       "    <tr>\n",
       "      <th>4</th>\n",
       "      <td>2</td>\n",
       "      <td>0.202113</td>\n",
       "      <td>-1.235625</td>\n",
       "      <td>-1.231835</td>\n",
       "      <td>-1.133331</td>\n",
       "      <td>-0.734491</td>\n",
       "      <td>316979</td>\n",
       "    </tr>\n",
       "  </tbody>\n",
       "</table>\n",
       "</div>"
      ],
      "text/plain": [
       "   Location  Size (sqft)  Bedrooms  Bathrooms  Year Built  Condition   Price\n",
       "0         1    -1.067816  1.729282  -1.231835    1.040608   1.255999   61023\n",
       "1         2    -1.240099 -1.235625   1.256721   -1.133331  -1.397988  216619\n",
       "2         2    -0.121569 -1.235625   0.012443   -0.093621   1.255999  168012\n",
       "3         1    -1.088699 -0.494398  -1.231835    0.898830  -1.397988  206542\n",
       "4         2     0.202113 -1.235625  -1.231835   -1.133331  -0.734491  316979"
      ]
     },
     "execution_count": 54,
     "metadata": {},
     "output_type": "execute_result"
    }
   ],
   "source": [
    "df.head()"
   ]
  },
  {
   "cell_type": "markdown",
   "id": "da7def12-3c90-4319-9d3e-72f2c49c95a9",
   "metadata": {},
   "source": [
    "# 6.Deployment"
   ]
  },
  {
   "cell_type": "code",
   "execution_count": 61,
   "id": "898bb957-d7fa-4230-a0a3-4e676ffca5b2",
   "metadata": {},
   "outputs": [],
   "source": [
    "# !pip install gradio"
   ]
  },
  {
   "cell_type": "code",
   "execution_count": 53,
   "id": "56f82c65-1e5b-4496-b415-9d4586bcd472",
   "metadata": {},
   "outputs": [],
   "source": [
    "import gradio as gr"
   ]
  },
  {
   "cell_type": "code",
   "execution_count": 123,
   "id": "08c49e60-f1fc-4bd2-bc43-c1696d60ecee",
   "metadata": {},
   "outputs": [
    {
     "name": "stdout",
     "output_type": "stream",
     "text": [
      "* Running on local URL:  http://127.0.0.1:7866\n",
      "\n",
      "To create a public link, set `share=True` in `launch()`.\n"
     ]
    },
    {
     "data": {
      "text/html": [
       "<div><iframe src=\"http://127.0.0.1:7866/\" width=\"100%\" height=\"500\" allow=\"autoplay; camera; microphone; clipboard-read; clipboard-write;\" frameborder=\"0\" allowfullscreen></iframe></div>"
      ],
      "text/plain": [
       "<IPython.core.display.HTML object>"
      ]
     },
     "metadata": {},
     "output_type": "display_data"
    },
    {
     "data": {
      "text/plain": []
     },
     "execution_count": 123,
     "metadata": {},
     "output_type": "execute_result"
    }
   ],
   "source": [
    "def Predict_house_price(Location,Size,Bedrooms,Bathrooms,Yearbuilt,Condition):\n",
    "    input_data=pd.DataFrame({\n",
    "        'Location':[Location],\n",
    "        'Size (sqft)':[Size],\n",
    "        'Bedrooms':[Bedrooms],\n",
    "        'Bathrooms':[Bathrooms],\n",
    "        'Year Built':[Yearbuilt],\n",
    "        'Condition':[Condition]\n",
    "    })\n",
    "    for col in le_col:\n",
    "        input_data[col]=le[col].transform(input_data[col])\n",
    "    input_data[std_col]=std.transform(input_data[std_col])\n",
    "    prediction=lr.predict(input_data)\n",
    "    return prediction[0]\n",
    "    # return f\"Predicted House Preice: ${prediction[0]:,.2f}\"\n",
    "gr.Interface(\n",
    "        fn=Predict_house_price,\n",
    "    inputs=[\n",
    "        gr.Dropdown(\n",
    "            [\"Suburban\",\"Urban\",\"Rural\"],label=\"Location\"),\n",
    "        gr.Number(label=\"Size (sqft)\"),\n",
    "        gr.Number(label=\"Bedrooms\"),\n",
    "        gr.Number(label=\"Bathrooms\"),\n",
    "        gr.Number(label=\"Year Built\"),\n",
    "        gr.Number(label=\"Condition\")\n",
    "    ],\n",
    "    outputs=gr.Textbox(label='prediction'),\n",
    "    title='Prediction Housin Price'\n",
    ").launch()"
   ]
  },
  {
   "cell_type": "code",
   "execution_count": null,
   "id": "1ed6d744-180c-4477-b2ed-4ba7ffbdf8fd",
   "metadata": {},
   "outputs": [],
   "source": []
  }
 ],
 "metadata": {
  "kernelspec": {
   "display_name": "Python 3 (ipykernel)",
   "language": "python",
   "name": "python3"
  },
  "language_info": {
   "codemirror_mode": {
    "name": "ipython",
    "version": 3
   },
   "file_extension": ".py",
   "mimetype": "text/x-python",
   "name": "python",
   "nbconvert_exporter": "python",
   "pygments_lexer": "ipython3",
   "version": "3.12.7"
  }
 },
 "nbformat": 4,
 "nbformat_minor": 5
}
